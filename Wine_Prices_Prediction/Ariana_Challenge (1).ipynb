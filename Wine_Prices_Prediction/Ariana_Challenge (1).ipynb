{
  "nbformat": 4,
  "nbformat_minor": 0,
  "metadata": {
    "colab": {
      "name": "Ariana Challenge.ipynb",
      "provenance": []
    },
    "kernelspec": {
      "name": "python3",
      "display_name": "Python 3"
    },
    "accelerator": "GPU"
  },
  "cells": [
    {
      "cell_type": "code",
      "metadata": {
        "id": "dcrsMQmYTLmy",
        "colab_type": "code",
        "colab": {}
      },
      "source": [
        "import numpy as np\n",
        "import pandas as pd\n",
        "import matplotlib.pyplot as plt\n",
        "import seaborn as sns\n",
        "import warnings\n",
        "def ignore_warn(*args, **kwargs):\n",
        "    pass\n",
        "warnings.warn = ignore_warn\n",
        "from scipy import stats\n",
        "from scipy.stats import norm, skew\n",
        "from sklearn.model_selection import train_test_split\n",
        "from sklearn.preprocessing import StandardScaler"
      ],
      "execution_count": 0,
      "outputs": []
    },
    {
      "cell_type": "markdown",
      "metadata": {
        "id": "URoYtr3sr3o9",
        "colab_type": "text"
      },
      "source": [
        "# Load Data"
      ]
    },
    {
      "cell_type": "code",
      "metadata": {
        "id": "j9X7q3q0aJbn",
        "colab_type": "code",
        "outputId": "dc143243-92dd-47ea-90bb-d51660b6b137",
        "colab": {
          "base_uri": "https://localhost:8080/",
          "height": 54
        }
      },
      "source": [
        "\"\"\"!pip install -q kaggle\n",
        "!mkdir -p ~/.kaggle\n",
        "!cp kaggle.json ~/.kaggle/\n",
        "!ls ~/.kaggle\n",
        "!chmod 600 /root/.kaggle/kaggle.json  # set permission\n",
        "!pip install --upgrade --force-reinstall -- kaggle\n",
        "!kaggle competitions download -c datacept-wine-prices-prediction -p /content/\n",
        "import os\n",
        "os.chdir('../content/')  #change dir\"\"\"\n"
      ],
      "execution_count": 177,
      "outputs": [
        {
          "output_type": "execute_result",
          "data": {
            "text/plain": [
              "\"!pip install -q kaggle\\n!mkdir -p ~/.kaggle\\n!cp kaggle.json ~/.kaggle/\\n!ls ~/.kaggle\\n!chmod 600 /root/.kaggle/kaggle.json  # set permission\\n!pip install --upgrade --force-reinstall -- kaggle\\n!kaggle competitions download -c datacept-wine-prices-prediction -p /content/\\nimport os\\nos.chdir('../content/')  #change dir\""
            ]
          },
          "metadata": {
            "tags": []
          },
          "execution_count": 177
        }
      ]
    },
    {
      "cell_type": "code",
      "metadata": {
        "id": "sbKe_jTXa26U",
        "colab_type": "code",
        "colab": {}
      },
      "source": [
        "#!unzip -q /content/datacept-wine-prices-prediction.zip   #unzip data in train/"
      ],
      "execution_count": 0,
      "outputs": []
    },
    {
      "cell_type": "code",
      "metadata": {
        "id": "prTeLRqfpgUV",
        "colab_type": "code",
        "colab": {}
      },
      "source": [
        "train = pd.read_csv(\"../content/trainfinal.csv\")\n",
        "test = pd.read_csv(\"../content/test.csv\")\n",
        "sub = pd.read_csv(\"../content/Sample_sub.csv\")\n"
      ],
      "execution_count": 0,
      "outputs": []
    },
    {
      "cell_type": "code",
      "metadata": {
        "id": "Zit32QjJbnYn",
        "colab_type": "code",
        "outputId": "a5b66d32-207e-4929-a419-15fe84b7d9ac",
        "colab": {
          "base_uri": "https://localhost:8080/",
          "height": 34
        }
      },
      "source": [
        "train.shape"
      ],
      "execution_count": 180,
      "outputs": [
        {
          "output_type": "execute_result",
          "data": {
            "text/plain": [
              "(131250, 14)"
            ]
          },
          "metadata": {
            "tags": []
          },
          "execution_count": 180
        }
      ]
    },
    {
      "cell_type": "code",
      "metadata": {
        "id": "nkZCup7sURpJ",
        "colab_type": "code",
        "outputId": "96a6dea0-d91b-431f-f9c7-cb8298b17587",
        "colab": {
          "base_uri": "https://localhost:8080/",
          "height": 34
        }
      },
      "source": [
        "test.shape"
      ],
      "execution_count": 181,
      "outputs": [
        {
          "output_type": "execute_result",
          "data": {
            "text/plain": [
              "(40686, 13)"
            ]
          },
          "metadata": {
            "tags": []
          },
          "execution_count": 181
        }
      ]
    },
    {
      "cell_type": "markdown",
      "metadata": {
        "id": "9yhPoAK_r9IH",
        "colab_type": "text"
      },
      "source": [
        "# Cleaning"
      ]
    },
    {
      "cell_type": "code",
      "metadata": {
        "id": "_AqAB82lmRFO",
        "colab_type": "code",
        "outputId": "f2ebb482-173a-4adb-b074-381826e1779f",
        "colab": {
          "base_uri": "https://localhost:8080/",
          "height": 34
        }
      },
      "source": [
        "before = len(train)\n",
        "Q1 = train['price'].quantile(0.25)\n",
        "Q3 = train['price'].quantile(0.75)\n",
        "IQR = Q3 - Q1\n",
        "# define outliers and remove them\n",
        "filter_ = (train['price'] > Q1 - 1.5 * IQR) & (train['price'] < Q3 + 1.5 *IQR)\n",
        "train = train[filter_]\n",
        "\n",
        "after = len(train)\n",
        "diff = before-after\n",
        "percent = diff/before*100\n",
        "print('{} ({:.2f}%) outliers removed'.format(diff, percent))"
      ],
      "execution_count": 182,
      "outputs": [
        {
          "output_type": "stream",
          "text": [
            "7751 (5.91%) outliers removed\n"
          ],
          "name": "stdout"
        }
      ]
    },
    {
      "cell_type": "code",
      "metadata": {
        "id": "klVCPZy-J_n7",
        "colab_type": "code",
        "colab": {}
      },
      "source": [
        "train = train[train.country.isna() == False]\n",
        "train = train[train.variety.isna() == False]\n",
        "test.loc[test.country.isna() == True, 'country'] = 'US'\n",
        "test.loc[test.province.isna() == True, 'province'] = 'California'"
      ],
      "execution_count": 0,
      "outputs": []
    },
    {
      "cell_type": "code",
      "metadata": {
        "id": "Sh8z5z38lEdr",
        "colab_type": "code",
        "outputId": "f14fd943-9d6d-43f2-a136-b41d725d5f21",
        "colab": {
          "base_uri": "https://localhost:8080/",
          "height": 820
        }
      },
      "source": [
        "plt.figure(figsize=(10,4))\n",
        "plt.xlim(train.price.min()-1, train.price.max()*1.1)\n",
        "sns.boxplot(x=train.price)\n",
        "\n",
        "plt.figure(figsize=(10,4))\n",
        "plt.xlim(train.points.min()-2, train.points.max()*1.1)\n",
        "sns.boxplot(x=train.points)\n",
        "\n",
        "plt.figure(figsize=(10,4))\n",
        "plt.xlim(test.points.min()-2, test.points.max()*1.1)\n",
        "sns.boxplot(x=test.points)"
      ],
      "execution_count": 184,
      "outputs": [
        {
          "output_type": "execute_result",
          "data": {
            "text/plain": [
              "<matplotlib.axes._subplots.AxesSubplot at 0x7f69108d1400>"
            ]
          },
          "metadata": {
            "tags": []
          },
          "execution_count": 184
        },
        {
          "output_type": "display_data",
          "data": {
            "image/png": "[encoded data removed]",
            "text/plain": [
              "<Figure size 720x288 with 1 Axes>"
            ]
          },
          "metadata": {
            "tags": [],
            "needs_background": "light"
          }
        },
        {
          "output_type": "display_data",
          "data": {
            "image/png": "[encoded data removed]",
            "text/plain": [
              "<Figure size 720x288 with 1 Axes>"
            ]
          },
          "metadata": {
            "tags": [],
            "needs_background": "light"
          }
        },
        {
          "output_type": "display_data",
          "data": {
            "image/png": "[encoded data removed]",
            "text/plain": [
              "<Figure size 720x288 with 1 Axes>"
            ]
          },
          "metadata": {
            "tags": [],
            "needs_background": "light"
          }
        }
      ]
    },
    {
      "cell_type": "code",
      "metadata": {
        "id": "O7ulsdbIw3G_",
        "colab_type": "code",
        "colab": {}
      },
      "source": [
        "y     = train[['id','price']]\n",
        "y_t = test.id\n",
        "train = train.drop(['id','price'],axis=1)\n",
        "test = test.drop('id',axis=1)\n",
        "all_dfs = [train,test]\n",
        "train = pd.concat(all_dfs).reset_index(drop=True);"
      ],
      "execution_count": 0,
      "outputs": []
    },
    {
      "cell_type": "code",
      "metadata": {
        "id": "7yMM7oaOuapM",
        "colab_type": "code",
        "outputId": "ba57b4aa-729a-4365-a338-14c2e23a02e4",
        "colab": {
          "base_uri": "https://localhost:8080/",
          "height": 402
        }
      },
      "source": [
        "#missing data\n",
        "total = train.isnull().sum().sort_values(ascending=False)\n",
        "percent = (train.isnull().sum()/train.isnull().count()).sort_values(ascending=False)\n",
        "missing_data = pd.concat([total, percent], axis=1, keys=['Total', 'Percent'])\n",
        "missing_data.head(15)"
      ],
      "execution_count": 186,
      "outputs": [
        {
          "output_type": "execute_result",
          "data": {
            "text/html": [
              "<div>\n",
              "<style scoped>\n",
              "    .dataframe tbody tr th:only-of-type {\n",
              "        vertical-align: middle;\n",
              "    }\n",
              "\n",
              "    .dataframe tbody tr th {\n",
              "        vertical-align: top;\n",
              "    }\n",
              "\n",
              "    .dataframe thead th {\n",
              "        text-align: right;\n",
              "    }\n",
              "</style>\n",
              "<table border=\"1\" class=\"dataframe\">\n",
              "  <thead>\n",
              "    <tr style=\"text-align: right;\">\n",
              "      <th></th>\n",
              "      <th>Total</th>\n",
              "      <th>Percent</th>\n",
              "    </tr>\n",
              "  </thead>\n",
              "  <tbody>\n",
              "    <tr>\n",
              "      <th>taster_twitter_handle</th>\n",
              "      <td>106089</td>\n",
              "      <td>0.646332</td>\n",
              "    </tr>\n",
              "    <tr>\n",
              "      <th>taster_name</th>\n",
              "      <td>102896</td>\n",
              "      <td>0.626879</td>\n",
              "    </tr>\n",
              "    <tr>\n",
              "      <th>region_2</th>\n",
              "      <td>92750</td>\n",
              "      <td>0.565066</td>\n",
              "    </tr>\n",
              "    <tr>\n",
              "      <th>title</th>\n",
              "      <td>87369</td>\n",
              "      <td>0.532283</td>\n",
              "    </tr>\n",
              "    <tr>\n",
              "      <th>designation</th>\n",
              "      <td>50029</td>\n",
              "      <td>0.304795</td>\n",
              "    </tr>\n",
              "    <tr>\n",
              "      <th>region_1</th>\n",
              "      <td>27259</td>\n",
              "      <td>0.166072</td>\n",
              "    </tr>\n",
              "    <tr>\n",
              "      <th>winery</th>\n",
              "      <td>0</td>\n",
              "      <td>0.000000</td>\n",
              "    </tr>\n",
              "    <tr>\n",
              "      <th>variety</th>\n",
              "      <td>0</td>\n",
              "      <td>0.000000</td>\n",
              "    </tr>\n",
              "    <tr>\n",
              "      <th>province</th>\n",
              "      <td>0</td>\n",
              "      <td>0.000000</td>\n",
              "    </tr>\n",
              "    <tr>\n",
              "      <th>points</th>\n",
              "      <td>0</td>\n",
              "      <td>0.000000</td>\n",
              "    </tr>\n",
              "    <tr>\n",
              "      <th>description</th>\n",
              "      <td>0</td>\n",
              "      <td>0.000000</td>\n",
              "    </tr>\n",
              "    <tr>\n",
              "      <th>country</th>\n",
              "      <td>0</td>\n",
              "      <td>0.000000</td>\n",
              "    </tr>\n",
              "  </tbody>\n",
              "</table>\n",
              "</div>"
            ],
            "text/plain": [
              "                        Total   Percent\n",
              "taster_twitter_handle  106089  0.646332\n",
              "taster_name            102896  0.626879\n",
              "region_2                92750  0.565066\n",
              "title                   87369  0.532283\n",
              "designation             50029  0.304795\n",
              "region_1                27259  0.166072\n",
              "winery                      0  0.000000\n",
              "variety                     0  0.000000\n",
              "province                    0  0.000000\n",
              "points                      0  0.000000\n",
              "description                 0  0.000000\n",
              "country                     0  0.000000"
            ]
          },
          "metadata": {
            "tags": []
          },
          "execution_count": 186
        }
      ]
    },
    {
      "cell_type": "code",
      "metadata": {
        "id": "jlX4VJSbvXtp",
        "colab_type": "code",
        "colab": {}
      },
      "source": [
        "train.drop(['title','region_2','taster_name','taster_twitter_handle'], axis=1, inplace=True)"
      ],
      "execution_count": 0,
      "outputs": []
    },
    {
      "cell_type": "code",
      "metadata": {
        "id": "qUUIWs63IIdN",
        "colab_type": "code",
        "colab": {}
      },
      "source": [
        "train['designation'].fillna(\"Reserve\",inplace=True)\n",
        "train['region_1'].fillna('Napa Valley',inplace=True)"
      ],
      "execution_count": 0,
      "outputs": []
    },
    {
      "cell_type": "code",
      "metadata": {
        "id": "2EWtOEZYKSMR",
        "colab_type": "code",
        "outputId": "d2b2f9cf-54c2-4272-f431-a9b41fef3c14",
        "colab": {
          "base_uri": "https://localhost:8080/",
          "height": 279
        }
      },
      "source": [
        "train.head()"
      ],
      "execution_count": 189,
      "outputs": [
        {
          "output_type": "execute_result",
          "data": {
            "text/html": [
              "<div>\n",
              "<style scoped>\n",
              "    .dataframe tbody tr th:only-of-type {\n",
              "        vertical-align: middle;\n",
              "    }\n",
              "\n",
              "    .dataframe tbody tr th {\n",
              "        vertical-align: top;\n",
              "    }\n",
              "\n",
              "    .dataframe thead th {\n",
              "        text-align: right;\n",
              "    }\n",
              "</style>\n",
              "<table border=\"1\" class=\"dataframe\">\n",
              "  <thead>\n",
              "    <tr style=\"text-align: right;\">\n",
              "      <th></th>\n",
              "      <th>country</th>\n",
              "      <th>description</th>\n",
              "      <th>designation</th>\n",
              "      <th>points</th>\n",
              "      <th>province</th>\n",
              "      <th>region_1</th>\n",
              "      <th>variety</th>\n",
              "      <th>winery</th>\n",
              "    </tr>\n",
              "  </thead>\n",
              "  <tbody>\n",
              "    <tr>\n",
              "      <th>0</th>\n",
              "      <td>US</td>\n",
              "      <td>From organic grapes, this fresh, slightly swee...</td>\n",
              "      <td>Areté Vineyards Dry</td>\n",
              "      <td>86.981265</td>\n",
              "      <td>Washington</td>\n",
              "      <td>Columbia Valley (WA)</td>\n",
              "      <td>CHENIN BLANC</td>\n",
              "      <td>Tagaris</td>\n",
              "    </tr>\n",
              "    <tr>\n",
              "      <th>1</th>\n",
              "      <td>Italy</td>\n",
              "      <td>This 100% Cortese wine has a slight fizz and a...</td>\n",
              "      <td>Reserve</td>\n",
              "      <td>87.049806</td>\n",
              "      <td>Piedmont</td>\n",
              "      <td>Gavi</td>\n",
              "      <td>CORTESE</td>\n",
              "      <td>Principessa Gavia</td>\n",
              "    </tr>\n",
              "    <tr>\n",
              "      <th>2</th>\n",
              "      <td>Italy</td>\n",
              "      <td>This is rather shy on the nose while the racy ...</td>\n",
              "      <td>Reserve</td>\n",
              "      <td>84.978262</td>\n",
              "      <td>Tuscany</td>\n",
              "      <td>Vernaccia di San Gimignano</td>\n",
              "      <td>VERNACCIA</td>\n",
              "      <td>Tenuta La Vigna</td>\n",
              "    </tr>\n",
              "    <tr>\n",
              "      <th>3</th>\n",
              "      <td>US</td>\n",
              "      <td>Full-bodied, high in alcohol and very rich in ...</td>\n",
              "      <td>Reserve</td>\n",
              "      <td>89.145719</td>\n",
              "      <td>California</td>\n",
              "      <td>Dry Creek Valley</td>\n",
              "      <td>CABERNET SAUVIGNON</td>\n",
              "      <td>Adobe Road</td>\n",
              "    </tr>\n",
              "    <tr>\n",
              "      <th>4</th>\n",
              "      <td>Italy</td>\n",
              "      <td>Here's a pretty Pinot Grigio with broad aromas...</td>\n",
              "      <td>Reserve</td>\n",
              "      <td>85.127045</td>\n",
              "      <td>Veneto</td>\n",
              "      <td>Piave</td>\n",
              "      <td>PINOT GRIGIO</td>\n",
              "      <td>Moletto</td>\n",
              "    </tr>\n",
              "  </tbody>\n",
              "</table>\n",
              "</div>"
            ],
            "text/plain": [
              "  country  ...             winery\n",
              "0      US  ...            Tagaris\n",
              "1   Italy  ...  Principessa Gavia\n",
              "2   Italy  ...    Tenuta La Vigna\n",
              "3      US  ...         Adobe Road\n",
              "4   Italy  ...            Moletto\n",
              "\n",
              "[5 rows x 8 columns]"
            ]
          },
          "metadata": {
            "tags": []
          },
          "execution_count": 189
        }
      ]
    },
    {
      "cell_type": "code",
      "metadata": {
        "id": "cRtJFWozKdzj",
        "colab_type": "code",
        "colab": {}
      },
      "source": [
        "ntrain=len(y['price'])\n",
        "new_train= train.iloc[:ntrain, :]\n",
        "new_test = train.iloc[ntrain:, :]"
      ],
      "execution_count": 0,
      "outputs": []
    },
    {
      "cell_type": "markdown",
      "metadata": {
        "id": "yOfWwLqXsC6N",
        "colab_type": "text"
      },
      "source": [
        "# NLP Approach"
      ]
    },
    {
      "cell_type": "code",
      "metadata": {
        "id": "tJX82Ia2K382",
        "colab_type": "code",
        "outputId": "d6a009cd-59ba-41bd-885f-8596ec4191c9",
        "colab": {
          "base_uri": "https://localhost:8080/",
          "height": 67
        }
      },
      "source": [
        "import nltk\n",
        "nltk.download('punkt')"
      ],
      "execution_count": 191,
      "outputs": [
        {
          "output_type": "stream",
          "text": [
            "[nltk_data] Downloading package punkt to /root/nltk_data...\n",
            "[nltk_data]   Package punkt is already up-to-date!\n"
          ],
          "name": "stdout"
        },
        {
          "output_type": "execute_result",
          "data": {
            "text/plain": [
              "True"
            ]
          },
          "metadata": {
            "tags": []
          },
          "execution_count": 191
        }
      ]
    },
    {
      "cell_type": "code",
      "metadata": {
        "id": "0mbT59ENLGk4",
        "colab_type": "code",
        "colab": {}
      },
      "source": [
        "from nltk import FreqDist, word_tokenize\n",
        "from wordcloud import STOPWORDS\n",
        "stopwords = set(STOPWORDS)\n",
        "from sklearn.feature_extraction.text import TfidfVectorizer"
      ],
      "execution_count": 0,
      "outputs": []
    },
    {
      "cell_type": "code",
      "metadata": {
        "id": "pKA9ZifwLU6A",
        "colab_type": "code",
        "outputId": "d6ba97ce-dadb-4ee3-f2a9-b48091dd7f8f",
        "colab": {
          "base_uri": "https://localhost:8080/",
          "height": 404
        }
      },
      "source": [
        "word_freq = FreqDist(w for w in word_tokenize(' '.join(new_train['description']).lower()) if \n",
        "                     (w not in stopwords) & (w.isalpha()))\n",
        "df_word_freq = pd.DataFrame.from_dict(word_freq, orient='index', columns=['count'])\n",
        "top20w = df_word_freq.sort_values('count',ascending=False).head(20)\n",
        "\n",
        "plt.figure(figsize=(8,6))\n",
        "sns.barplot(top20w['count'], top20w.index)\n",
        "plt.title('Top 20 words')\n",
        "plt.show()"
      ],
      "execution_count": 193,
      "outputs": [
        {
          "output_type": "display_data",
          "data": {
            "image/png": "[encoded data removed]",
            "text/plain": [
              "<Figure size 576x432 with 1 Axes>"
            ]
          },
          "metadata": {
            "tags": [],
            "needs_background": "light"
          }
        }
      ]
    },
    {
      "cell_type": "code",
      "metadata": {
        "id": "sLxurvXlLGpl",
        "colab_type": "code",
        "outputId": "4df756ed-a8ab-467f-9349-945e3f077a1d",
        "colab": {
          "base_uri": "https://localhost:8080/",
          "height": 34
        }
      },
      "source": [
        "from sklearn.feature_extraction.text import TfidfVectorizer\n",
        "\n",
        "vec_text = TfidfVectorizer(min_df = 40000, ngram_range = (1,2), stop_words='english') \n",
        "\n",
        "# Have unigrams and bigrams\n",
        "text_vec = vec_text.fit_transform(new_train['description'])\n",
        "text_vec_test = vec_text.transform(new_test['description'])\n",
        "X_train_text = pd.DataFrame(text_vec.toarray(), columns=vec_text.get_feature_names())\n",
        "X_test_text = pd.DataFrame(text_vec_test.toarray(), columns=vec_text.get_feature_names())\n",
        "print (X_train_text.shape)"
      ],
      "execution_count": 194,
      "outputs": [
        {
          "output_type": "stream",
          "text": [
            "(123454, 3)\n"
          ],
          "name": "stdout"
        }
      ]
    },
    {
      "cell_type": "code",
      "metadata": {
        "id": "1rBeIzfVidva",
        "colab_type": "code",
        "outputId": "03e9ec10-3f09-48a7-918c-70532117ce73",
        "colab": {
          "base_uri": "https://localhost:8080/",
          "height": 195
        }
      },
      "source": [
        "X_train_text.head()"
      ],
      "execution_count": 195,
      "outputs": [
        {
          "output_type": "execute_result",
          "data": {
            "text/html": [
              "<div>\n",
              "<style scoped>\n",
              "    .dataframe tbody tr th:only-of-type {\n",
              "        vertical-align: middle;\n",
              "    }\n",
              "\n",
              "    .dataframe tbody tr th {\n",
              "        vertical-align: top;\n",
              "    }\n",
              "\n",
              "    .dataframe thead th {\n",
              "        text-align: right;\n",
              "    }\n",
              "</style>\n",
              "<table border=\"1\" class=\"dataframe\">\n",
              "  <thead>\n",
              "    <tr style=\"text-align: right;\">\n",
              "      <th></th>\n",
              "      <th>flavors</th>\n",
              "      <th>fruit</th>\n",
              "      <th>wine</th>\n",
              "    </tr>\n",
              "  </thead>\n",
              "  <tbody>\n",
              "    <tr>\n",
              "      <th>0</th>\n",
              "      <td>1.000000</td>\n",
              "      <td>0.0</td>\n",
              "      <td>0.000000</td>\n",
              "    </tr>\n",
              "    <tr>\n",
              "      <th>1</th>\n",
              "      <td>0.695023</td>\n",
              "      <td>0.0</td>\n",
              "      <td>0.718988</td>\n",
              "    </tr>\n",
              "    <tr>\n",
              "      <th>2</th>\n",
              "      <td>0.000000</td>\n",
              "      <td>1.0</td>\n",
              "      <td>0.000000</td>\n",
              "    </tr>\n",
              "    <tr>\n",
              "      <th>3</th>\n",
              "      <td>0.000000</td>\n",
              "      <td>0.0</td>\n",
              "      <td>0.000000</td>\n",
              "    </tr>\n",
              "    <tr>\n",
              "      <th>4</th>\n",
              "      <td>0.000000</td>\n",
              "      <td>0.0</td>\n",
              "      <td>1.000000</td>\n",
              "    </tr>\n",
              "  </tbody>\n",
              "</table>\n",
              "</div>"
            ],
            "text/plain": [
              "    flavors  fruit      wine\n",
              "0  1.000000    0.0  0.000000\n",
              "1  0.695023    0.0  0.718988\n",
              "2  0.000000    1.0  0.000000\n",
              "3  0.000000    0.0  0.000000\n",
              "4  0.000000    0.0  1.000000"
            ]
          },
          "metadata": {
            "tags": []
          },
          "execution_count": 195
        }
      ]
    },
    {
      "cell_type": "code",
      "metadata": {
        "id": "jEWScJiDVpCR",
        "colab_type": "code",
        "colab": {}
      },
      "source": [
        "new_test=new_test.reset_index(False)\n",
        "new_test=new_test.drop('index',1)\n",
        "new_train = new_train.join(X_train_text, rsuffix='_text')\n",
        "new_test = new_test.join(X_test_text, rsuffix='_text')\n",
        "new_train=new_train.drop('description',1)\n",
        "new_test=new_test.drop('description',1)"
      ],
      "execution_count": 0,
      "outputs": []
    },
    {
      "cell_type": "code",
      "metadata": {
        "id": "5za5EIl9b1Jb",
        "colab_type": "code",
        "outputId": "37922130-81b3-4ed7-cea7-0a9ae553744e",
        "colab": {
          "base_uri": "https://localhost:8080/",
          "height": 404
        }
      },
      "source": [
        "word_freq = FreqDist(w for w in word_tokenize(' '.join(new_train['designation'].astype(str)).lower()) if \n",
        "                     (w not in stopwords) & (w.isalpha()))\n",
        "df_word_freq = pd.DataFrame.from_dict(word_freq, orient='index', columns=['count'])\n",
        "top20w = df_word_freq.sort_values('count',ascending=False).head(20)\n",
        "\n",
        "plt.figure(figsize=(8,6))\n",
        "sns.barplot(top20w['count'], top20w.index)\n",
        "plt.title('Top 20 words')\n",
        "plt.show()"
      ],
      "execution_count": 197,
      "outputs": [
        {
          "output_type": "display_data",
          "data": {
            "image/png": "[encoded data removed]",
            "text/plain": [
              "<Figure size 576x432 with 1 Axes>"
            ]
          },
          "metadata": {
            "tags": [],
            "needs_background": "light"
          }
        }
      ]
    },
    {
      "cell_type": "code",
      "metadata": {
        "id": "gSk1aQHEb6GV",
        "colab_type": "code",
        "outputId": "1e84b94d-4dc0-46eb-a061-36af167c4f98",
        "colab": {
          "base_uri": "https://localhost:8080/",
          "height": 34
        }
      },
      "source": [
        "vec_text = TfidfVectorizer(min_df = 5000, ngram_range = (1,2), stop_words='english') \n",
        "# Only include >=10 occurrences\n",
        "# Have unigrams and bigrams\n",
        "text_vec = vec_text.fit_transform(new_train['designation'])\n",
        "text_vec_test = vec_text.transform(new_test['designation'])\n",
        "X_train_text = pd.DataFrame(text_vec.toarray(), columns=vec_text.get_feature_names())\n",
        "X_test_text = pd.DataFrame(text_vec_test.toarray(), columns=vec_text.get_feature_names())\n",
        "print (X_train_text.shape)"
      ],
      "execution_count": 198,
      "outputs": [
        {
          "output_type": "stream",
          "text": [
            "(123454, 2)\n"
          ],
          "name": "stdout"
        }
      ]
    },
    {
      "cell_type": "code",
      "metadata": {
        "id": "7TXIAT-OcKf9",
        "colab_type": "code",
        "colab": {}
      },
      "source": [
        "new_train = new_train.join(X_train_text, rsuffix='_text')\n",
        "new_test = new_test.join(X_test_text, rsuffix='_text')\n",
        "new_train=new_train.drop('designation',1)\n",
        "new_test=new_test.drop('designation',1)"
      ],
      "execution_count": 0,
      "outputs": []
    },
    {
      "cell_type": "code",
      "metadata": {
        "id": "El0r6r44cQSr",
        "colab_type": "code",
        "outputId": "a38590ee-d9f2-4d35-9ac7-7dbec41a8839",
        "colab": {
          "base_uri": "https://localhost:8080/",
          "height": 404
        }
      },
      "source": [
        "word_freq = FreqDist(w for w in word_tokenize(' '.join(new_train['winery'].astype(str)).lower()) if \n",
        "                     (w not in stopwords) & (w.isalpha()))\n",
        "df_word_freq = pd.DataFrame.from_dict(word_freq, orient='index', columns=['count'])\n",
        "top20w = df_word_freq.sort_values('count',ascending=False).head(20)\n",
        "\n",
        "plt.figure(figsize=(8,6))\n",
        "sns.barplot(top20w['count'], top20w.index)\n",
        "plt.title('Top 20 words')\n",
        "plt.show()"
      ],
      "execution_count": 200,
      "outputs": [
        {
          "output_type": "display_data",
          "data": {
            "image/png": "[encoded data removed]",
            "text/plain": [
              "<Figure size 576x432 with 1 Axes>"
            ]
          },
          "metadata": {
            "tags": [],
            "needs_background": "light"
          }
        }
      ]
    },
    {
      "cell_type": "code",
      "metadata": {
        "id": "jK_wMeR0cKlS",
        "colab_type": "code",
        "outputId": "2852ae0d-2b93-45bf-ccab-af649ac2ba88",
        "colab": {
          "base_uri": "https://localhost:8080/",
          "height": 34
        }
      },
      "source": [
        "vec_text = TfidfVectorizer(min_df = 2000, ngram_range = (1,2), stop_words='english') \n",
        "text_vec = vec_text.fit_transform(new_train['winery'])\n",
        "text_vec_test = vec_text.transform(new_test['winery'])\n",
        "X_train_text = pd.DataFrame(text_vec.toarray(), columns=vec_text.get_feature_names())\n",
        "X_test_text = pd.DataFrame(text_vec_test.toarray(), columns=vec_text.get_feature_names())\n",
        "print (X_train_text.shape)"
      ],
      "execution_count": 201,
      "outputs": [
        {
          "output_type": "stream",
          "text": [
            "(123454, 4)\n"
          ],
          "name": "stdout"
        }
      ]
    },
    {
      "cell_type": "code",
      "metadata": {
        "id": "Z23IEBmhcTzn",
        "colab_type": "code",
        "colab": {}
      },
      "source": [
        "new_train = new_train.join(X_train_text, rsuffix='_text')\n",
        "new_test = new_test.join(X_test_text, rsuffix='_text')\n",
        "new_train=new_train.drop('winery',1)\n",
        "new_test=new_test.drop('winery',1)"
      ],
      "execution_count": 0,
      "outputs": []
    },
    {
      "cell_type": "code",
      "metadata": {
        "id": "hVtmcTdici6r",
        "colab_type": "code",
        "outputId": "05f99f3e-d105-450f-d083-ae92fcbc3789",
        "colab": {
          "base_uri": "https://localhost:8080/",
          "height": 404
        }
      },
      "source": [
        "word_freq = FreqDist(w for w in word_tokenize(' '.join(new_train['variety'].astype(str)).lower()) if \n",
        "                     (w not in stopwords) & (w.isalpha()))\n",
        "df_word_freq = pd.DataFrame.from_dict(word_freq, orient='index', columns=['count'])\n",
        "top20w = df_word_freq.sort_values('count',ascending=False).head(20)\n",
        "\n",
        "plt.figure(figsize=(8,6))\n",
        "sns.barplot(top20w['count'], top20w.index)\n",
        "plt.title('Top 20 words')\n",
        "plt.show()"
      ],
      "execution_count": 203,
      "outputs": [
        {
          "output_type": "display_data",
          "data": {
            "image/png": "[encoded data removed]",
            "text/plain": [
              "<Figure size 576x432 with 1 Axes>"
            ]
          },
          "metadata": {
            "tags": [],
            "needs_background": "light"
          }
        }
      ]
    },
    {
      "cell_type": "code",
      "metadata": {
        "id": "w2VoRK-ccpfw",
        "colab_type": "code",
        "outputId": "bfa36806-4fcb-4b51-d9e9-ce8ace750e96",
        "colab": {
          "base_uri": "https://localhost:8080/",
          "height": 34
        }
      },
      "source": [
        "vec_text = TfidfVectorizer(min_df = 15000, ngram_range = (1,2), stop_words='english') \n",
        "text_vec = vec_text.fit_transform(new_train['variety'])\n",
        "text_vec_test = vec_text.transform(new_test['variety'])\n",
        "X_train_text = pd.DataFrame(text_vec.toarray(), columns=vec_text.get_feature_names())\n",
        "X_test_text = pd.DataFrame(text_vec_test.toarray(), columns=vec_text.get_feature_names())\n",
        "print (X_train_text.shape)"
      ],
      "execution_count": 204,
      "outputs": [
        {
          "output_type": "stream",
          "text": [
            "(123454, 4)\n"
          ],
          "name": "stdout"
        }
      ]
    },
    {
      "cell_type": "code",
      "metadata": {
        "id": "TqJwwgZTcjK8",
        "colab_type": "code",
        "colab": {}
      },
      "source": [
        "new_train = new_train.join(X_train_text, rsuffix='_text')\n",
        "new_test = new_test.join(X_test_text, rsuffix='_text')\n",
        "new_train=new_train.drop('variety',1)\n",
        "new_test=new_test.drop('variety',1)"
      ],
      "execution_count": 0,
      "outputs": []
    },
    {
      "cell_type": "code",
      "metadata": {
        "id": "ZL3QvL59dLzW",
        "colab_type": "code",
        "outputId": "04971132-ae93-472e-9d6f-634bea32df59",
        "colab": {
          "base_uri": "https://localhost:8080/",
          "height": 404
        }
      },
      "source": [
        "word_freq = FreqDist(w for w in word_tokenize(' '.join(new_train['country'].astype(str)).lower()) if \n",
        "                     (w not in stopwords) & (w.isalpha()))\n",
        "df_word_freq = pd.DataFrame.from_dict(word_freq, orient='index', columns=['count'])\n",
        "top20w = df_word_freq.sort_values('count',ascending=False).head(20)\n",
        "\n",
        "plt.figure(figsize=(8,6))\n",
        "sns.barplot(top20w['count'], top20w.index)\n",
        "plt.title('Top 20 words')\n",
        "plt.show()"
      ],
      "execution_count": 206,
      "outputs": [
        {
          "output_type": "display_data",
          "data": {
            "image/png": "[encoded data removed]",
            "text/plain": [
              "<Figure size 576x432 with 1 Axes>"
            ]
          },
          "metadata": {
            "tags": [],
            "needs_background": "light"
          }
        }
      ]
    },
    {
      "cell_type": "code",
      "metadata": {
        "id": "xmvj0LSLeQyF",
        "colab_type": "code",
        "outputId": "1a19e853-d14c-44c8-eabc-6445c79b8cda",
        "colab": {
          "base_uri": "https://localhost:8080/",
          "height": 34
        }
      },
      "source": [
        "vec_text = TfidfVectorizer(min_df = 2000, ngram_range = (1,2), stop_words='english') \n",
        "text_vec = vec_text.fit_transform(new_train['country'])\n",
        "text_vec_test = vec_text.transform(new_test['country'])\n",
        "X_train_text = pd.DataFrame(text_vec.toarray(), columns=vec_text.get_feature_names())\n",
        "X_test_text = pd.DataFrame(text_vec_test.toarray(), columns=vec_text.get_feature_names())\n",
        "print (X_train_text.shape)"
      ],
      "execution_count": 207,
      "outputs": [
        {
          "output_type": "stream",
          "text": [
            "(123454, 12)\n"
          ],
          "name": "stdout"
        }
      ]
    },
    {
      "cell_type": "code",
      "metadata": {
        "id": "Epv8sulleaSK",
        "colab_type": "code",
        "colab": {}
      },
      "source": [
        "new_train = new_train.join(X_train_text, rsuffix='_text')\n",
        "new_test = new_test.join(X_test_text, rsuffix='_text')\n",
        "new_train=new_train.drop('country',1)\n",
        "new_test=new_test.drop('country',1)"
      ],
      "execution_count": 0,
      "outputs": []
    },
    {
      "cell_type": "code",
      "metadata": {
        "id": "Rero9PGae-4z",
        "colab_type": "code",
        "outputId": "214737b2-1616-451e-ab46-4efdf2f6f344",
        "colab": {
          "base_uri": "https://localhost:8080/",
          "height": 404
        }
      },
      "source": [
        "word_freq = FreqDist(w for w in word_tokenize(' '.join(new_train['province'].astype(str)).lower()) if \n",
        "                     (w not in stopwords) & (w.isalpha()))\n",
        "df_word_freq = pd.DataFrame.from_dict(word_freq, orient='index', columns=['count'])\n",
        "top20w = df_word_freq.sort_values('count',ascending=False).head(20)\n",
        "\n",
        "plt.figure(figsize=(8,6))\n",
        "sns.barplot(top20w['count'], top20w.index)\n",
        "plt.title('Top 20 words')\n",
        "plt.show()"
      ],
      "execution_count": 209,
      "outputs": [
        {
          "output_type": "display_data",
          "data": {
            "image/png": "[encoded data removed]",
            "text/plain": [
              "<Figure size 576x432 with 1 Axes>"
            ]
          },
          "metadata": {
            "tags": [],
            "needs_background": "light"
          }
        }
      ]
    },
    {
      "cell_type": "code",
      "metadata": {
        "id": "_ZLmP5PwdZgA",
        "colab_type": "code",
        "outputId": "7ca15c3e-97fb-40e4-ea4d-8a757881b3ab",
        "colab": {
          "base_uri": "https://localhost:8080/",
          "height": 34
        }
      },
      "source": [
        "vec_text = TfidfVectorizer(min_df = 5000, ngram_range = (1,2), stop_words='english') \n",
        "text_vec = vec_text.fit_transform(new_train['province'])\n",
        "text_vec_test = vec_text.transform(new_test['province'])\n",
        "X_train_text = pd.DataFrame(text_vec.toarray(), columns=vec_text.get_feature_names())\n",
        "X_test_text = pd.DataFrame(text_vec_test.toarray(), columns=vec_text.get_feature_names())\n",
        "print (X_train_text.shape)"
      ],
      "execution_count": 210,
      "outputs": [
        {
          "output_type": "stream",
          "text": [
            "(123454, 3)\n"
          ],
          "name": "stdout"
        }
      ]
    },
    {
      "cell_type": "code",
      "metadata": {
        "id": "Gy9VFZJpfHHl",
        "colab_type": "code",
        "colab": {}
      },
      "source": [
        "new_train = new_train.join(X_train_text, rsuffix='_text')\n",
        "new_test = new_test.join(X_test_text, rsuffix='_text')\n",
        "new_train=new_train.drop('province',1)\n",
        "new_test=new_test.drop('province',1)"
      ],
      "execution_count": 0,
      "outputs": []
    },
    {
      "cell_type": "code",
      "metadata": {
        "id": "WbRssgSUfWOi",
        "colab_type": "code",
        "outputId": "1d234bf5-ee54-4205-8412-5eeee070cd68",
        "colab": {
          "base_uri": "https://localhost:8080/",
          "height": 404
        }
      },
      "source": [
        "word_freq = FreqDist(w for w in word_tokenize(' '.join(new_train['region_1'].astype(str)).lower()) if \n",
        "                     (w not in stopwords) & (w.isalpha()))\n",
        "df_word_freq = pd.DataFrame.from_dict(word_freq, orient='index', columns=['count'])\n",
        "top20w = df_word_freq.sort_values('count',ascending=False).head(20)\n",
        "\n",
        "plt.figure(figsize=(8,6))\n",
        "sns.barplot(top20w['count'], top20w.index)\n",
        "plt.title('Top 20 words')\n",
        "plt.show()"
      ],
      "execution_count": 212,
      "outputs": [
        {
          "output_type": "display_data",
          "data": {
            "image/png": "[encoded data removed]",
            "text/plain": [
              "<Figure size 576x432 with 1 Axes>"
            ]
          },
          "metadata": {
            "tags": [],
            "needs_background": "light"
          }
        }
      ]
    },
    {
      "cell_type": "code",
      "metadata": {
        "id": "yCwubxNVfSD7",
        "colab_type": "code",
        "outputId": "2d3183e5-831f-4fce-b853-53f029a4d157",
        "colab": {
          "base_uri": "https://localhost:8080/",
          "height": 34
        }
      },
      "source": [
        "vec_text = TfidfVectorizer(min_df = 5000, ngram_range = (1,2), stop_words='english') \n",
        "text_vec = vec_text.fit_transform(new_train['region_1'])\n",
        "text_vec_test = vec_text.transform(new_test['region_1'])\n",
        "X_train_text = pd.DataFrame(text_vec.toarray(), columns=vec_text.get_feature_names())\n",
        "X_test_text = pd.DataFrame(text_vec_test.toarray(), columns=vec_text.get_feature_names())\n",
        "print (X_train_text.shape)"
      ],
      "execution_count": 213,
      "outputs": [
        {
          "output_type": "stream",
          "text": [
            "(123454, 6)\n"
          ],
          "name": "stdout"
        }
      ]
    },
    {
      "cell_type": "code",
      "metadata": {
        "id": "cYB9aWeufn5k",
        "colab_type": "code",
        "colab": {}
      },
      "source": [
        "new_train = new_train.join(X_train_text, rsuffix='_text')\n",
        "new_test = new_test.join(X_test_text, rsuffix='_text')\n",
        "new_train=new_train.drop('region_1',1)\n",
        "new_test=new_test.drop('region_1',1)"
      ],
      "execution_count": 0,
      "outputs": []
    },
    {
      "cell_type": "markdown",
      "metadata": {
        "id": "xJpKJMMrsLIZ",
        "colab_type": "text"
      },
      "source": [
        "# Traning/Evaluating"
      ]
    },
    {
      "cell_type": "code",
      "metadata": {
        "id": "NUld6UTLJS4t",
        "colab_type": "code",
        "colab": {}
      },
      "source": [
        "Scaler = StandardScaler()\n",
        "train_scaled = pd.DataFrame(Scaler.fit_transform(new_train))\n",
        "test_scaled = pd.DataFrame(Scaler.fit_transform(new_test))"
      ],
      "execution_count": 0,
      "outputs": []
    },
    {
      "cell_type": "code",
      "metadata": {
        "id": "A7kZdfJtgCy-",
        "colab_type": "code",
        "outputId": "87b46858-c988-42a0-de88-d20d08f259dc",
        "colab": {
          "base_uri": "https://localhost:8080/",
          "height": 34
        }
      },
      "source": [
        "train_scaled.shape"
      ],
      "execution_count": 216,
      "outputs": [
        {
          "output_type": "execute_result",
          "data": {
            "text/plain": [
              "(123454, 35)"
            ]
          },
          "metadata": {
            "tags": []
          },
          "execution_count": 216
        }
      ]
    },
    {
      "cell_type": "code",
      "metadata": {
        "id": "Vv8ZJhV_Jcg6",
        "colab_type": "code",
        "colab": {}
      },
      "source": [
        "X_train, X_test, y_train, y_test = train_test_split(train_scaled, y['price'], test_size=0.1, random_state=42)"
      ],
      "execution_count": 0,
      "outputs": []
    },
    {
      "cell_type": "code",
      "metadata": {
        "id": "dW_-iEQXgZK_",
        "colab_type": "code",
        "colab": {}
      },
      "source": [
        "import tensorflow as tf\n",
        "ann = tf.keras.models.Sequential()\n",
        "ann.add(tf.keras.layers.Dense(units=528, activation='relu'))\n",
        "ann.add(tf.keras.layers.Dropout(0.1))\n",
        "ann.add(tf.keras.layers.Dense(units=528, activation='relu'))\n",
        "\n",
        "ann.add(tf.keras.layers.Dense(units=1))\n"
      ],
      "execution_count": 0,
      "outputs": []
    },
    {
      "cell_type": "code",
      "metadata": {
        "id": "GkZyTyPRg9LC",
        "colab_type": "code",
        "colab": {}
      },
      "source": [
        "ann.compile(optimizer = 'adam', loss = 'mean_squared_error')"
      ],
      "execution_count": 0,
      "outputs": []
    },
    {
      "cell_type": "code",
      "metadata": {
        "id": "5U-lJfQHhEXq",
        "colab_type": "code",
        "outputId": "bb72747a-7db5-40f8-dbe2-a57d342202c0",
        "colab": {
          "base_uri": "https://localhost:8080/",
          "height": 490
        }
      },
      "source": [
        "ann.fit(X_train, y_train,validation_data=(X_test,y_test), batch_size = 100, epochs = 10)"
      ],
      "execution_count": 236,
      "outputs": [
        {
          "output_type": "stream",
          "text": [
            "Epoch 1/10\n",
            "WARNING:tensorflow:Layer dense_79 is casting an input tensor from dtype float64 to the layer's dtype of float32, which is new behavior in TensorFlow 2.  The layer has dtype float32 because it's dtype defaults to floatx.\n",
            "\n",
            "If you intended to run this layer in float32, you can safely ignore this warning. If in doubt, this warning is likely only an issue if you are porting a TensorFlow 1.X model to TensorFlow 2.\n",
            "\n",
            "To change all layers to have dtype float64 by default, call `tf.keras.backend.set_floatx('float64')`. To change just this layer, pass dtype='float64' to the layer constructor. If you are the author of this layer, you can disable autocasting by passing autocast=False to the base Layer constructor.\n",
            "\n",
            "1112/1112 [==============================] - 3s 2ms/step - loss: 155.8639 - val_loss: 146.0406\n",
            "Epoch 2/10\n",
            "1112/1112 [==============================] - 2s 2ms/step - loss: 141.9840 - val_loss: 145.4856\n",
            "Epoch 3/10\n",
            "1112/1112 [==============================] - 2s 2ms/step - loss: 141.3302 - val_loss: 144.3570\n",
            "Epoch 4/10\n",
            "1112/1112 [==============================] - 2s 2ms/step - loss: 140.5534 - val_loss: 142.3236\n",
            "Epoch 5/10\n",
            "1112/1112 [==============================] - 2s 2ms/step - loss: 140.0818 - val_loss: 143.4761\n",
            "Epoch 6/10\n",
            "1112/1112 [==============================] - 2s 2ms/step - loss: 139.5821 - val_loss: 143.6475\n",
            "Epoch 7/10\n",
            "1112/1112 [==============================] - 2s 2ms/step - loss: 139.0200 - val_loss: 143.8274\n",
            "Epoch 8/10\n",
            "1112/1112 [==============================] - 2s 2ms/step - loss: 138.8016 - val_loss: 141.4102\n",
            "Epoch 9/10\n",
            "1112/1112 [==============================] - 2s 2ms/step - loss: 138.5484 - val_loss: 143.0475\n",
            "Epoch 10/10\n",
            "1112/1112 [==============================] - 2s 2ms/step - loss: 138.2968 - val_loss: 140.8606\n"
          ],
          "name": "stdout"
        },
        {
          "output_type": "execute_result",
          "data": {
            "text/plain": [
              "<tensorflow.python.keras.callbacks.History at 0x7f691e577c88>"
            ]
          },
          "metadata": {
            "tags": []
          },
          "execution_count": 236
        }
      ]
    },
    {
      "cell_type": "code",
      "metadata": {
        "id": "w9LK2DVLjmHZ",
        "colab_type": "code",
        "colab": {}
      },
      "source": [
        "y_pred = ann.predict(test_scaled)"
      ],
      "execution_count": 0,
      "outputs": []
    },
    {
      "cell_type": "code",
      "metadata": {
        "id": "qQk7CXmAjup2",
        "colab_type": "code",
        "colab": {}
      },
      "source": [
        "y_pred0=pd.DataFrame()\n",
        "y_pred0['id'] = y_t\n",
        "y_pred0['price'] = y_pred\n",
        "y_pred0.to_csv('Sub.csv',index=False)"
      ],
      "execution_count": 0,
      "outputs": []
    },
    {
      "cell_type": "code",
      "metadata": {
        "id": "P0nmOonbkwC2",
        "colab_type": "code",
        "outputId": "900ff842-387b-4bf3-8d37-00ded8ba6b48",
        "colab": {
          "base_uri": "https://localhost:8080/",
          "height": 134
        }
      },
      "source": [
        "y_pred"
      ],
      "execution_count": 239,
      "outputs": [
        {
          "output_type": "execute_result",
          "data": {
            "text/plain": [
              "array([[32.55509 ],\n",
              "       [30.520912],\n",
              "       [32.243084],\n",
              "       ...,\n",
              "       [23.800291],\n",
              "       [18.608421],\n",
              "       [15.539717]], dtype=float32)"
            ]
          },
          "metadata": {
            "tags": []
          },
          "execution_count": 239
        }
      ]
    }
  ]
}